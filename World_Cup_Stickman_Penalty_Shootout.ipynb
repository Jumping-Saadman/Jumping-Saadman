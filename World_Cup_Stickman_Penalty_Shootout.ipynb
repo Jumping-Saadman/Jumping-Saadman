{
  "cells": [
    {
      "cell_type": "markdown",
      "metadata": {
        "id": "view-in-github",
        "colab_type": "text"
      },
      "source": [
        "<a href=\"https://colab.research.google.com/github/Jumping-Saadman/Jumping-Saadman/blob/main/World_Cup_Stickman_Penalty_Shootout.ipynb\" target=\"_parent\"><img src=\"https://colab.research.google.com/assets/colab-badge.svg\" alt=\"Open In Colab\"/></a>"
      ]
    },
    {
      "cell_type": "markdown",
      "metadata": {
        "id": "Bbei2S00-bAd"
      },
      "source": [
        "# Installation block"
      ]
    },
    {
      "cell_type": "code",
      "execution_count": null,
      "metadata": {
        "colab": {
          "base_uri": "https://localhost:8080/"
        },
        "id": "HySOQeFunUXu",
        "outputId": "dd6fd4fc-ed42-406e-915e-f348f66e39d7"
      },
      "outputs": [
        {
          "name": "stdout",
          "output_type": "stream",
          "text": [
            "\u001b[31mERROR: pip's dependency resolver does not currently take into account all the packages that are installed. This behaviour is the source of the following dependency conflicts.\n",
            "tifffile 2022.10.10 requires numpy>=1.19.2, but you have numpy 1.19.0 which is incompatible.\n",
            "tensorflow 2.9.2 requires numpy>=1.20, but you have numpy 1.19.0 which is incompatible.\n",
            "jaxlib 0.3.25+cuda11.cudnn805 requires numpy>=1.20, but you have numpy 1.19.0 which is incompatible.\n",
            "jax 0.3.25 requires numpy>=1.20, but you have numpy 1.19.0 which is incompatible.\n",
            "cupy-cuda11x 11.0.0 requires numpy<1.26,>=1.20, but you have numpy 1.19.0 which is incompatible.\n",
            "cmdstanpy 1.0.8 requires numpy>=1.21, but you have numpy 1.19.0 which is incompatible.\u001b[0m\n"
          ]
        }
      ],
      "source": [
        "!pip install -q lucid>=0.2.3"
      ]
    },
    {
      "cell_type": "code",
      "execution_count": null,
      "metadata": {
        "id": "Uc6GJ1wEprxc"
      },
      "outputs": [],
      "source": [
        "import math\n",
        "# from pyglet import image"
      ]
    },
    {
      "cell_type": "code",
      "execution_count": null,
      "metadata": {
        "colab": {
          "base_uri": "https://localhost:8080/"
        },
        "id": "tqvA196rnkBm",
        "outputId": "51a7d4af-1a0b-49bf-dc81-ab85ccd255ad"
      },
      "outputs": [
        {
          "name": "stdout",
          "output_type": "stream",
          "text": [
            "b'4.6.0 NVIDIA 460.32.03'\n",
            "b'NVIDIA Corporation'\n"
          ]
        }
      ],
      "source": [
        "import numpy as np\n",
        "\n",
        "import ctypes.util\n",
        "from lucid.misc.gl.glcontext import create_opengl_context\n",
        "\n",
        "# Now it's safe to import OpenGL and EGL functions\n",
        "import OpenGL.GL as gl\n",
        "from OpenGL.GLU import *\n",
        "\n",
        "# create_opengl_context() creates GL context that is attached to an\n",
        "# offscreen surface of specified size. Note that rendering to buffers\n",
        "# of different size and format is still possible with OpenGL Framebuffers.\n",
        "#\n",
        "# Users are expected to directly use EGL calls in case more advanced\n",
        "# context management is required.\n",
        "WIDTH, HEIGHT = 800,600\n",
        "create_opengl_context((WIDTH, HEIGHT))\n",
        "    \n",
        "# OpenGL context is available here.\n",
        "\n",
        "print(gl.glGetString(gl.GL_VERSION))\n",
        "print(gl.glGetString(gl.GL_VENDOR)) \n",
        "#print(gl.glGetString(gl.GL_EXTENSIONS))"
      ]
    },
    {
      "cell_type": "markdown",
      "metadata": {
        "id": "1zHHDzWto5E0"
      },
      "source": [
        "# Circle code"
      ]
    },
    {
      "cell_type": "code",
      "execution_count": null,
      "metadata": {
        "id": "-O4ewvPin7g6"
      },
      "outputs": [],
      "source": [
        "def MidpointCircle(radius, g, h, p): # (g, h) = origin; p = point size\n",
        "    # gl.glColor3f(1,0,1) \n",
        "    gl.glPointSize(p)\n",
        "    gl.glBegin(gl.GL_POINTS)\n",
        "\n",
        "    d = 1 - radius\n",
        "    x = 0\n",
        "    y = radius\n",
        "\n",
        "    Circlepoints(x, y, g, h)\n",
        "    while x < y:\n",
        "        if d < 0:\n",
        "            # Choose E\n",
        "            d = d + 2*x + 3\n",
        "            x += 1\n",
        "        else:\n",
        "            # Choose SE\n",
        "            d = d + 2*x - 2*y + 5\n",
        "            x += 1\n",
        "            y -= 1\n",
        "        Circlepoints(x, y, g, h)\n",
        "\n",
        "    gl.glEnd()"
      ]
    },
    {
      "cell_type": "code",
      "execution_count": null,
      "metadata": {
        "id": "5GSOlZCVoSY7"
      },
      "outputs": [],
      "source": [
        "def Circlepoints(x, y, g, h):\n",
        "    gl.glVertex((x+g)/400, (y+h)/300)\n",
        "    gl.glVertex((y+g)/400, (x+h)/300)\n",
        "    gl.glVertex((y+g)/400, (-x+h)/300)\n",
        "    gl.glVertex((x+g)/400, (-y+h)/300)\n",
        "    gl.glVertex((-x+g)/400, (-y+h)/300)\n",
        "    gl.glVertex((-y+g)/400, (-x+h)/300)\n",
        "    gl.glVertex((-y+g)/400, (x+h)/300)\n",
        "    gl.glVertex((-x+g)/400, (y+h)/300)"
      ]
    },
    {
      "cell_type": "markdown",
      "metadata": {
        "id": "7DnFVL0_o-7Y"
      },
      "source": [
        "# Line code"
      ]
    },
    {
      "cell_type": "markdown",
      "metadata": {
        "id": "ZPv_owTtrP5x"
      },
      "source": [
        "Algorithm"
      ]
    },
    {
      "cell_type": "code",
      "execution_count": null,
      "metadata": {
        "id": "ZZD_cco8pO6t"
      },
      "outputs": [],
      "source": [
        "def findZone(x1, y1, x2, y2):\n",
        "    dx = x2 - x1\n",
        "    dy = y2 - y1\n",
        "    zone = -1\n",
        "\n",
        "    if(abs(dx) > abs(dy)):\n",
        "        if(dx>0 and dy>0): zone = 0\n",
        "        elif(dx>0 and dy<=0): zone = 7\n",
        "        elif(dx<=0 and dy>0): zone = 3\n",
        "        elif(dx<=0 and dy<=0): zone = 4\n",
        "    else:\n",
        "        if(dx>0 and dy>0): zone = 1\n",
        "        elif(dx>0 and dy<=0): zone = 6\n",
        "        elif(dx<=0 and dy>0): zone = 2\n",
        "        elif(dx<=0 and dy<=0): zone = 5\n",
        "\n",
        "    return zone"
      ]
    },
    {
      "cell_type": "code",
      "execution_count": null,
      "metadata": {
        "id": "WNyK0xrlq_RB"
      },
      "outputs": [],
      "source": [
        "def convertToZone0(X, Y, zone):\n",
        "    x = -9999\n",
        "    y = -9999\n",
        "    if(zone == 1):\n",
        "        x = Y\n",
        "        y = X\n",
        "    elif(zone == 2):\n",
        "        x = Y\n",
        "        y = -X\n",
        "    elif(zone == 3):\n",
        "        x = -X\n",
        "        y = Y\n",
        "    elif(zone == 4):\n",
        "        x = -X\n",
        "        y = -Y\n",
        "    elif(zone == 5):\n",
        "        x = -Y\n",
        "        y = -X\n",
        "    elif(zone == 6):\n",
        "        x = -Y\n",
        "        y = X\n",
        "    elif(zone == 7):\n",
        "        x = X\n",
        "        y = -Y\n",
        "    \n",
        "    return x, y"
      ]
    },
    {
      "cell_type": "code",
      "execution_count": null,
      "metadata": {
        "id": "9Hxq0I-RrAFM"
      },
      "outputs": [],
      "source": [
        "def originalZone(X, Y, zone):\n",
        "    x=-9999\n",
        "    y=-9999\n",
        "    if(zone == 0):\n",
        "        x = X\n",
        "        y = Y\n",
        "    elif(zone == 1):\n",
        "        x = Y\n",
        "        y = X\n",
        "    elif(zone == 2):\n",
        "        x = -Y\n",
        "        y = X\n",
        "    elif(zone == 3):\n",
        "        x = -X\n",
        "        y = Y\n",
        "    elif(zone == 4):\n",
        "        x = -X\n",
        "        y = -Y\n",
        "    elif(zone == 5):\n",
        "        x = -Y\n",
        "        y = -X\n",
        "    elif(zone == 6):\n",
        "        x = Y\n",
        "        y = -X\n",
        "    elif(zone == 7):\n",
        "        x = X\n",
        "        y = -Y\n",
        "\n",
        "    return x, y"
      ]
    },
    {
      "cell_type": "code",
      "execution_count": null,
      "metadata": {
        "id": "g8Pu9tbMrCHM"
      },
      "outputs": [],
      "source": [
        "def mpld(x1, y1, x2, y2, zone, p):\n",
        "    gl.glPointSize(p)\n",
        "\n",
        "    gl.glBegin(gl.GL_POINTS)\n",
        "\n",
        "    dx = x2 - x1\n",
        "    dy = y2 - y1\n",
        "    d = 2* dy - dx\n",
        "    dNE = 2 * (dy - dx)\n",
        "    dE = 2 * dy\n",
        "    x = x1\n",
        "    y = y1\n",
        "\n",
        "    _x, _y = originalZone(x, y, zone)\n",
        "    gl.glVertex(_x/400, _y/300)\n",
        "    while(x<x2):\n",
        "        if(d<=0):\n",
        "            # choose E\n",
        "            d += dE\n",
        "            x += 1\n",
        "        else:\n",
        "            # choose NE\n",
        "            d += dNE\n",
        "            x += 1\n",
        "            y += 1\n",
        "        \n",
        "        _x, _y = originalZone(x, y, zone)\n",
        "        gl.glVertex(_x/400, _y/300) # The selected pixel closest to the line\n",
        "\n",
        "    gl.glEnd()"
      ]
    },
    {
      "cell_type": "code",
      "execution_count": null,
      "metadata": {
        "id": "UYIjqDQbw0pn"
      },
      "outputs": [],
      "source": [
        "def mpld_short(x1, y1, x2, y2, p):\n",
        "    zone = findZone(x1, y1, x2, y2)\n",
        "    x1, y1 = convertToZone0(x1, y1, zone)\n",
        "    x2, y2 = convertToZone0(x2, y2, zone)\n",
        "    mpld(x1, y1, x2, y2, zone, p)"
      ]
    },
    {
      "cell_type": "markdown",
      "metadata": {
        "id": "_Kyl6QLsrT5k"
      },
      "source": [
        "# Seven segments "
      ]
    },
    {
      "cell_type": "code",
      "execution_count": null,
      "metadata": {
        "id": "LIDbr0wDFLeb"
      },
      "outputs": [],
      "source": [
        "def aSeg(offx, offy):\n",
        "    gl.glColor3f(1,0,0) # Red color\n",
        "\n",
        "    x1 = -15 + offx\n",
        "    y1 = 15 + offy\n",
        "    x2 = 15 + offx\n",
        "    y2 = 15 + offy\n",
        "    mpld_short(x1, y1, x2, y2, 1)"
      ]
    },
    {
      "cell_type": "code",
      "execution_count": null,
      "metadata": {
        "id": "Rtic1hnXpYQD"
      },
      "outputs": [],
      "source": [
        "def bSeg(offx, offy):\n",
        "    gl.glColor3f(0,1,0) # Green color\n",
        "\n",
        "    x1 = -15 + offx\n",
        "    y1 = 0 + offy\n",
        "    x2 = -15 + offx\n",
        "    y2 = 15 + offy\n",
        "    mpld_short(x1, y1, x2, y2, 1)"
      ]
    },
    {
      "cell_type": "code",
      "execution_count": null,
      "metadata": {
        "id": "tqogVQoopZOk"
      },
      "outputs": [],
      "source": [
        "def cSeg(offx, offy):\n",
        "    gl.glColor3f(0,0,1) # Blue color\n",
        "\n",
        "    x1 = 15 + offx\n",
        "    y1 = 0 + offy\n",
        "    x2 = 15 + offx\n",
        "    y2 = 15 + offy\n",
        "    mpld_short(x1, y1, x2, y2, 1)"
      ]
    },
    {
      "cell_type": "code",
      "execution_count": null,
      "metadata": {
        "id": "nKy1r79PpmGg"
      },
      "outputs": [],
      "source": [
        "def dSeg(offx, offy):\n",
        "    gl.glColor3f(1,1,1) # White color\n",
        "\n",
        "    x1 = -15 + offx\n",
        "    y1 = 0 + offy\n",
        "    x2 = 15 + offx\n",
        "    y2 = 0 + offy\n",
        "    mpld_short(x1, y1, x2, y2, 1)"
      ]
    },
    {
      "cell_type": "code",
      "execution_count": null,
      "metadata": {
        "id": "U0qFYVpOpoi5"
      },
      "outputs": [],
      "source": [
        "def eSeg(offx, offy):\n",
        "    gl.glColor3f(1,1,0) # Yellow color\n",
        "\n",
        "    x1 = -15 + offx\n",
        "    y1 = -15 + offy\n",
        "    x2 = -15 + offx\n",
        "    y2 = 0 + offy\n",
        "    mpld_short(x1, y1, x2, y2, 1)"
      ]
    },
    {
      "cell_type": "code",
      "execution_count": null,
      "metadata": {
        "id": "qUtTw34EppmA"
      },
      "outputs": [],
      "source": [
        "def fSeg(offx, offy):\n",
        "    gl.glColor3f(1,0,1) # Purple color\n",
        "\n",
        "    x1 = 15 + offx\n",
        "    y1 = -15 + offy\n",
        "    x2 = 15 + offx\n",
        "    y2 = 0 + offy\n",
        "    mpld_short(x1, y1, x2, y2, 1)"
      ]
    },
    {
      "cell_type": "code",
      "execution_count": null,
      "metadata": {
        "id": "h06Q_1nTpqN3"
      },
      "outputs": [],
      "source": [
        "def gSeg(offx, offy):\n",
        "    gl.glColor3f(0,1,1) # Cyan color\n",
        "    x1 = -15 + offx\n",
        "    y1 = -15 + offy\n",
        "    x2 = 15 + offx\n",
        "    y2 = -15 + offy\n",
        "    mpld_short(x1, y1, x2, y2, 1)"
      ]
    },
    {
      "cell_type": "markdown",
      "metadata": {
        "id": "9lU5fY4buCnW"
      },
      "source": [
        "number drawer code"
      ]
    },
    {
      "cell_type": "code",
      "execution_count": null,
      "metadata": {
        "id": "TAMhgigKuPCA"
      },
      "outputs": [],
      "source": [
        "def numberDrawer(n, region):\n",
        "    if region == 1: \n",
        "        offx = -150\n",
        "        offy = 229.17\n",
        "    elif region == 2:\n",
        "        offx = -50\n",
        "        offy = 229.17\n",
        "    elif region == 3:\n",
        "        offx = 50\n",
        "        offy = 229.17\n",
        "    elif region == 4:\n",
        "        offx = 150\n",
        "        offy = 229.17\n",
        "    elif region == 5:\n",
        "        offx = -150\n",
        "        offy = 177.505\n",
        "    elif region == 6:\n",
        "        offx = -50\n",
        "        offy = 177.505\n",
        "    elif region == 7:\n",
        "        offx = 50\n",
        "        offy = 177.505\n",
        "    elif region == 8:\n",
        "        offx = 150\n",
        "        offy = 177.505\n",
        "    elif region == 9:\n",
        "        offx = -150\n",
        "        offy = 125.835\n",
        "    elif region == 101:\n",
        "        offx = -70\n",
        "        offy = 125.835\n",
        "    elif region == 102:\n",
        "        offx = -30\n",
        "        offy = 125.835\n",
        "    elif region == 111:\n",
        "        offx = 30\n",
        "        offy = 125.835\n",
        "    elif region == 112:\n",
        "        offx = 70\n",
        "        offy = 125.835\n",
        "    elif region == 121:\n",
        "        offx = 130\n",
        "        offy = 125.835\n",
        "    elif region == 122:\n",
        "        offx = 170\n",
        "        offy = 125.835\n",
        "\n",
        "    if n == 0:\n",
        "        aSeg(offx, offy)\n",
        "        bSeg(offx, offy)\n",
        "        cSeg(offx, offy)\n",
        "        eSeg(offx, offy)\n",
        "        fSeg(offx, offy)\n",
        "        gSeg(offx, offy)\n",
        "    elif n == 1:\n",
        "        cSeg(offx, offy)\n",
        "        fSeg(offx, offy)\n",
        "    elif n == 2:\n",
        "        aSeg(offx, offy)\n",
        "        cSeg(offx, offy)\n",
        "        dSeg(offx, offy)\n",
        "        eSeg(offx, offy)\n",
        "        gSeg(offx, offy)\n",
        "    elif n == 3:\n",
        "        aSeg(offx, offy)\n",
        "        cSeg(offx, offy)\n",
        "        dSeg(offx, offy)\n",
        "        fSeg(offx, offy)\n",
        "        gSeg(offx, offy)\n",
        "    elif n == 4:\n",
        "        bSeg(offx, offy)\n",
        "        dSeg(offx, offy)\n",
        "        cSeg(offx, offy)\n",
        "        fSeg(offx, offy)\n",
        "    elif n == 5:\n",
        "        aSeg(offx, offy)\n",
        "        bSeg(offx, offy)\n",
        "        dSeg(offx, offy)\n",
        "        fSeg(offx, offy)\n",
        "        gSeg(offx, offy)\n",
        "    elif n == 6:\n",
        "        aSeg(offx, offy)\n",
        "        bSeg(offx, offy)\n",
        "        dSeg(offx, offy)\n",
        "        fSeg(offx, offy)\n",
        "        eSeg(offx, offy)\n",
        "        gSeg(offx, offy)\n",
        "    elif n == 7:\n",
        "        bSeg(offx, offy)\n",
        "        aSeg(offx, offy)\n",
        "        cSeg(offx, offy)\n",
        "        fSeg(offx, offy)\n",
        "    elif n == 8:\n",
        "        aSeg(offx, offy)\n",
        "        bSeg(offx, offy)\n",
        "        cSeg(offx, offy)\n",
        "        dSeg(offx, offy)\n",
        "        eSeg(offx, offy)\n",
        "        fSeg(offx, offy)\n",
        "        gSeg(offx, offy)\n",
        "    elif n == 9:\n",
        "        aSeg(offx, offy)\n",
        "        bSeg(offx, offy)\n",
        "        cSeg(offx, offy)\n",
        "        dSeg(offx, offy)\n",
        "        fSeg(offx, offy)\n",
        "        gSeg(offx, offy)"
      ]
    },
    {
      "cell_type": "markdown",
      "metadata": {
        "id": "BV6GcxbUvKDZ"
      },
      "source": [
        "# Field"
      ]
    },
    {
      "cell_type": "code",
      "execution_count": null,
      "metadata": {
        "id": "cLrV1S1qvUef"
      },
      "outputs": [],
      "source": [
        "def field():\n",
        "    # grass\n",
        "    gl.glColor3f(0.55,0.77,0.29)\n",
        "    gl.glBegin(gl.GL_QUADS)\n",
        "    gl.glVertex2f(-400/400,-300/300)\n",
        "    gl.glVertex2f(400/400,-300/300)\n",
        "    gl.glVertex2f(400/400,200/300)\n",
        "    gl.glVertex2f(-400/400,200/300)\n",
        "    gl.glEnd()\n",
        "\n",
        "    # boundary\n",
        "    gl.glColor3f(0.41,0.41,0.41)\n",
        "    gl.glBegin(gl.GL_QUADS)\n",
        "    gl.glVertex2f(-400/400,200/300)\n",
        "    gl.glVertex2f(400/400,200/300)\n",
        "    gl.glVertex2f(400/400,250/300)\n",
        "    gl.glVertex2f(-400/400,250/300)\n",
        "    gl.glEnd()\n",
        "\n",
        "    # sky\n",
        "    gl.glColor3f(0.53,0.81,0.92)\n",
        "    gl.glBegin(gl.GL_QUADS)\n",
        "    gl.glVertex2f(-400/400,250/300)\n",
        "    gl.glVertex2f(400/400,250/300)\n",
        "    gl.glVertex2f(400/400,300/300)\n",
        "    gl.glVertex2f(-400/400,300/300)\n",
        "    gl.glEnd()\n",
        "\n",
        "    # outer d-box\n",
        "    gl.glColor3f(1,1,1)\n",
        "    mpld_short(-400, -200, 400, -200, 3)\n",
        "\n",
        "    # inner d-box\n",
        "# ----------------------------------------------------------------------------------------------\n",
        "\n",
        "    # out line\n",
        "    mpld_short(-400, 100, 400, 100, 3)\n",
        "\n",
        "    # left line\n",
        "    mpld_short(-300, 100, -300, 10, 3)\n",
        "\n",
        "    # bottom line\n",
        "    mpld_short(-300, 10, 300, 10, 3)\n",
        "\n",
        "    # right line\n",
        "    mpld_short(300, 10, 300, 100, 3)\n",
        "\n",
        "# ----------------------------------------------------------------------------------------------\n",
        "\n",
        "    # goal post\n",
        "# ----------------------------------------------------------------------------------------------\n",
        "\n",
        "    # left bar\n",
        "    mpld_short(-200, 100, -200, 255, 10)\n",
        "\n",
        "    # top bar\n",
        "    mpld_short(-200, 255, 200, 255, 10)\n",
        "\n",
        "    # right bar\n",
        "    mpld_short(200, 255, 200, 100, 10)\n",
        "\n",
        "# ----------------------------------------------------------------------------------------------\n",
        "\n",
        "    # x - axis and y - axis for debugging\n",
        "    # gl.glColor3f(0,0,0)\n",
        "    # # x - axis\n",
        "    # gl.glBegin(gl.GL_LINES)\n",
        "    # gl.glVertex2f(-1,0)\n",
        "    # gl.glVertex2f(1,0)\n",
        "    # gl.glEnd()\n",
        "\n",
        "    # # y - axis\n",
        "    # gl.glBegin(gl.GL_LINES)\n",
        "    # gl.glVertex2f(0,-1)\n",
        "    # gl.glVertex2f(0,1)\n",
        "    # gl.glEnd()\n"
      ]
    },
    {
      "cell_type": "markdown",
      "metadata": {
        "id": "s_Ym85pTRbh0"
      },
      "source": [
        "# penalty taker"
      ]
    },
    {
      "cell_type": "code",
      "execution_count": null,
      "metadata": {
        "id": "Q7CrDDyERkEL"
      },
      "outputs": [],
      "source": [
        "def penaltyTaker(position):\n",
        "    # x - axis and y - axis for debugging\n",
        "    # gl.glColor3f(1,0,0)\n",
        "    # # x - axis\n",
        "    # gl.glBegin(gl.GL_LINES)\n",
        "    # gl.glVertex2f(-1,0)\n",
        "    # gl.glVertex2f(1,0)\n",
        "    # gl.glEnd()\n",
        "\n",
        "    # # y - axis\n",
        "    # gl.glBegin(gl.GL_LINES)\n",
        "    # gl.glVertex2f(0,-1)\n",
        "    # gl.glVertex2f(0,1)\n",
        "    # gl.glEnd()\n",
        "\n",
        "    ba_x1 = 0 \n",
        "    ba_y1 = 0\n",
        "    ba_x2 = 100\n",
        "    ba_y2 = 0\n",
        "\n",
        "    if position == 0:\n",
        "        offx = -150\n",
        "        offy = -210\n",
        "        angle = 0\n",
        "        ba_x2 = 125\n",
        "    elif position == 1:\n",
        "        offx = -50\n",
        "        offy = -110\n",
        "        angle = 15\n",
        "        ba_x2 = 75\n",
        "\n",
        "    # angle = 180 # angle overwrite for testing\n",
        "\n",
        "    gl.glColor3f(0,0,0) # white color\n",
        "\n",
        "    # legs\n",
        "    leg1 = rotation(70+angle, ba_x2, ba_y2)\n",
        "    leg1x, leg1y = int(leg1[0]), int(leg1[1])\n",
        "    # print(leg1x, leg1y)\n",
        "    mpld_short(leg1x + offx, leg1y + offy, 0 + offx, 0 + offy, 6) # left leg. theta = 70 degree\n",
        "    mpld_short(0 + offx, 0 + offy, leg1x + offx, leg1y + offy, 6)\n",
        "\n",
        "    leg2 = rotation(-70 + angle, ba_x2, ba_y2)\n",
        "    # print(leg2)\n",
        "    leg2x_base, leg2y_base = int(leg2[0]), int(leg2[1])\n",
        "    leg2 = translation(leg1x, leg1y, leg2x_base, leg2y_base)\n",
        "    leg2x, leg2y = int(leg2[0]), int(leg2[1])\n",
        "    mpld_short(leg1x + offx, leg1y + offy, leg2x + offx, leg2y + offy, 6) # right leg. theta = -70 degree\n",
        "    mpld_short(leg2x + offx, leg2y + offy, leg1x + offx, leg1y + offy, 6)\n",
        "\n",
        "    # body + shoulder + head calculation\n",
        "    body = scl_refl(1.45, 1, ba_x2, ba_y2)\n",
        "    bodyx_base, bodyy_base = int(body[0]), int(body[1])\n",
        "    shoulderx, shouldery = bodyx_base*75/100, 0\n",
        "    headx, heady = bodyx_base, 0\n",
        "    # print(headx, heady)\n",
        "    body = rotation(90+angle, bodyx_base, bodyy_base)\n",
        "    shoulder = rotation(90+angle, shoulderx, shouldery)\n",
        "    head = rotation(90+angle, headx, heady)\n",
        "    bodyx, bodyy = int(body[0]), int(body[1])\n",
        "    shoulderx, shouldery = int(shoulder[0]), int(shoulder[1])\n",
        "    headx, heady = int(head[0]), int(head[1])\n",
        "    # print(headx, heady)\n",
        "    # now translate\n",
        "    body = translation(leg1x, leg1y, bodyx, bodyy)\n",
        "    shoulder = translation(leg1x, leg1y, shoulderx, shouldery)\n",
        "    head = translation(leg1x, leg1y, headx, heady)\n",
        "    # print(head)\n",
        "    bodyx, bodyy = int(body[0]), int(body[1])\n",
        "    shoulderx, shouldery = int(shoulder[0]), int(shoulder[1])\n",
        "    headx, heady = int(head[0]), int(head[1])\n",
        "    mpld_short(leg1x + offx, leg1y + offy, bodyx + offx, bodyy + offy, 8) \n",
        "    mpld_short(bodyx + offx, bodyy + offy, leg1x + offx, leg1y + offy, 8) \n",
        "\n",
        "    # hands\n",
        "    hand2 = translation(shoulderx, shouldery, leg2x_base, leg2y_base)\n",
        "    hand2x, hand2y = int(hand2[0]), int(hand2[1])\n",
        "    mpld_short(hand2x + offx, hand2y + offy, shoulderx + offx, shouldery + offy, 6)\n",
        "    mpld_short(shoulderx + offx, shouldery + offy, hand2x + offx, hand2y + offy, 6)\n",
        "\n",
        "    hand1 = rotation(180+70+angle, ba_x2, ba_y2)\n",
        "    hand1x, hand1y = int(hand1[0]), int(hand1[1])\n",
        "    hand1 = translation( shoulderx, shouldery, hand1x, hand1y)\n",
        "    hand1x, hand1y = int(hand1[0]), int(hand1[1])\n",
        "    mpld_short(shoulderx + offx, shouldery + offy, hand1x + offx, hand1y + offy, 6)\n",
        "    mpld_short(hand1x + offx, hand1y + offy, shoulderx + offx, shouldery + offy, 6)\n",
        "\n",
        "    # head\n",
        "    gl.glColor3f(1,1,0)\n",
        "    MidpointCircle(ba_x2*15/100, headx + offx, heady + offy, 20)"
      ]
    },
    {
      "cell_type": "markdown",
      "metadata": {
        "id": "hPF2dRTwOw82"
      },
      "source": [
        "# Goalkeeper"
      ]
    },
    {
      "cell_type": "code",
      "execution_count": null,
      "metadata": {
        "id": "atkFboFQOv8g"
      },
      "outputs": [],
      "source": [
        "def goalie(position):\n",
        "    # x - axis and y - axis for debugging\n",
        "    # gl.glColor3f(1,0,0)\n",
        "    # x - axis\n",
        "    # gl.glBegin(gl.GL_LINES)\n",
        "    # gl.glVertex2f(-1,0)\n",
        "    # gl.glVertex2f(1,0)\n",
        "    # gl.glEnd()\n",
        "\n",
        "    # # y - axis\n",
        "    # gl.glBegin(gl.GL_LINES)\n",
        "    # gl.glVertex2f(0,-1)\n",
        "    # gl.glVertex2f(0,1)\n",
        "    # gl.glEnd()\n",
        "\n",
        "    ba_x1 = 0 \n",
        "    ba_y1 = 0\n",
        "    ba_x2 = 50\n",
        "    ba_y2 = 0\n",
        "    angle = 0\n",
        "    offx = 0\n",
        "    offy = 0\n",
        "\n",
        "    if position == 1:\n",
        "        offx = -20\n",
        "        offy = 110\n",
        "        angle = 90\n",
        "    elif position == 2:\n",
        "        offx = -60\n",
        "        offy = 110\n",
        "        angle = 45\n",
        "    elif position == 3:\n",
        "        offx = -40\n",
        "        offy = 105\n",
        "        angle = 0\n",
        "    elif position == 4:\n",
        "        offx = 5\n",
        "        offy = 160\n",
        "        angle = -45\n",
        "    elif position == 5:\n",
        "        offx = 30\n",
        "        offy = 190\n",
        "        angle = -90\n",
        "\n",
        "    # angle = 180 # angle overwrite for testing\n",
        "\n",
        "    gl.glColor3f(0,0,0) # white color\n",
        "\n",
        "    # legs\n",
        "    leg1 = rotation(36.87+angle, ba_x2, ba_y2)\n",
        "    leg1x, leg1y = int(leg1[0]), int(leg1[1])\n",
        "    # print(leg1x, leg1y)\n",
        "    mpld_short(leg1x + offx, leg1y + offy, 0 + offx, 0 + offy, 6) # left leg. theta = 36.87 degree\n",
        "    mpld_short(0 + offx, 0 + offy, leg1x + offx, leg1y + offy, 6)\n",
        "\n",
        "    leg2 = rotation(-36.87 + angle, ba_x2, ba_y2)\n",
        "    # print(leg2)\n",
        "    leg2x_base, leg2y_base = int(leg2[0]), int(leg2[1])\n",
        "    leg2 = translation(leg1x, leg1y, leg2x_base, leg2y_base)\n",
        "    leg2x, leg2y = int(leg2[0]), int(leg2[1])\n",
        "    mpld_short(leg1x + offx, leg1y + offy, leg2x + offx, leg2y + offy, 6) # right leg. theta = -36.87 degree\n",
        "    mpld_short(leg2x + offx, leg2y + offy, leg1x + offx, leg1y + offy, 6)\n",
        "\n",
        "    # body + shoulder + head calculation\n",
        "    body = scl_refl(1.45, 1, ba_x2, ba_y2)\n",
        "    bodyx_base, bodyy_base = int(body[0]), int(body[1])\n",
        "    shoulderx, shouldery = bodyx_base*75/100, 0\n",
        "    headx, heady = bodyx_base, 0\n",
        "    # print(headx, heady)\n",
        "    body = rotation(90+angle, bodyx_base, bodyy_base)\n",
        "    shoulder = rotation(90+angle, shoulderx, shouldery)\n",
        "    head = rotation(90+angle, headx, heady)\n",
        "    bodyx, bodyy = int(body[0]), int(body[1])\n",
        "    shoulderx, shouldery = int(shoulder[0]), int(shoulder[1])\n",
        "    headx, heady = int(head[0]), int(head[1])\n",
        "    # print(headx, heady)\n",
        "    # now translate\n",
        "    body = translation(leg1x, leg1y, bodyx, bodyy)\n",
        "    shoulder = translation(leg1x, leg1y, shoulderx, shouldery)\n",
        "    head = translation(leg1x, leg1y, headx, heady)\n",
        "    # print(head)\n",
        "    bodyx, bodyy = int(body[0]), int(body[1])\n",
        "    shoulderx, shouldery = int(shoulder[0]), int(shoulder[1])\n",
        "    headx, heady = int(head[0]), int(head[1])\n",
        "    mpld_short(leg1x + offx, leg1y + offy, bodyx + offx, bodyy + offy, 8) \n",
        "    mpld_short(bodyx + offx, bodyy + offy, leg1x + offx, leg1y + offy, 8) \n",
        "\n",
        "    # hands\n",
        "    hand2 = translation(shoulderx, shouldery, leg1x, leg1y)\n",
        "    hand2x, hand2y = int(hand2[0]), int(hand2[1])\n",
        "    mpld_short(hand2x + offx, hand2y + offy, shoulderx + offx, shouldery + offy, 6)\n",
        "    mpld_short(shoulderx + offx, shouldery + offy, hand2x + offx, hand2y + offy, 6)\n",
        "\n",
        "    hand1 = rotation(143.13+angle, ba_x2, ba_y2)\n",
        "    hand1x, hand1y = int(hand1[0]), int(hand1[1])\n",
        "    hand1 = translation( shoulderx, shouldery, hand1x, hand1y)\n",
        "    hand1x, hand1y = int(hand1[0]), int(hand1[1])\n",
        "    mpld_short(shoulderx + offx, shouldery + offy, hand1x + offx, hand1y + offy, 6)\n",
        "    mpld_short(hand1x + offx, hand1y + offy, shoulderx + offx, shouldery + offy, 6)\n",
        "\n",
        "    # head\n",
        "    gl.glColor3f(0.45, 0.67, 0.87)\n",
        "    MidpointCircle(ba_x2*15/100, headx + offx, heady + offy, 20)"
      ]
    },
    {
      "cell_type": "markdown",
      "metadata": {
        "id": "jbPgScHPsXAw"
      },
      "source": [
        "# Goal post regions"
      ]
    },
    {
      "cell_type": "code",
      "execution_count": null,
      "metadata": {
        "id": "a068d229sdA4"
      },
      "outputs": [],
      "source": [
        "def GPR():\n",
        "\n",
        "    gl.glColor3f(0.7, 0.6, .6) # some color...\n",
        "    # Region A. midpoint=(-150,229.17)\n",
        "    mpld_short(-200,255, -200,203.34, 1)\n",
        "    mpld_short(-200,203.34, -100, 203.34, 1)\n",
        "    mpld_short(-100, 203.34, -100, 255, 1)\n",
        "    mpld_short(-100, 255, -200, 255, 1)\n",
        "    numberDrawer(1, 1)\n",
        "\n",
        "    gl.glColor3f(0.7, 0.6, .6) # some color...\n",
        "    # Region B. midpoint=(-50,229.17)\n",
        "    mpld_short(-100,255, -100,203.34, 1)\n",
        "    mpld_short(-100,203.34, 0, 203.34, 1)\n",
        "    mpld_short(0, 203.34, 0, 255, 1)\n",
        "    mpld_short(0, 255, -100, 255, 1)\n",
        "    numberDrawer(2, 2)\n",
        "\n",
        "    gl.glColor3f(0.7, 0.6, .6) # some color...\n",
        "    # Region C. midpoint=(50,229.17)\n",
        "    mpld_short(0,255, 0,203.34, 1)\n",
        "    mpld_short(0,203.34, 100, 203.34, 1)\n",
        "    mpld_short(100, 203.34, 100, 255, 1)\n",
        "    mpld_short(100, 255, 0, 255, 1)\n",
        "    numberDrawer(3, 3)\n",
        "\n",
        "    gl.glColor3f(0.7, 0.6, .6) # some color...\n",
        "    # Region D. midpoint=(150,229.17)\n",
        "    mpld_short(100,255, 100,203.34, 1)\n",
        "    mpld_short(100,203.34, 200, 203.34, 1)\n",
        "    mpld_short(200, 203.34, 200, 255, 1)\n",
        "    mpld_short(200, 255, 100, 255, 1)\n",
        "    numberDrawer(4, 4)\n",
        "\n",
        "    gl.glColor3f(0.7, 0.6, .6) # some color...\n",
        "    # Region E\n",
        "    mpld_short(-200,203.34, -200,151.67, 1)\n",
        "    mpld_short(-200,151.67, -100, 151.67, 1)\n",
        "    mpld_short(-100, 151.67, -100, 203.34, 1)\n",
        "    mpld_short(-100, 203.34, -200, 203.34, 1)\n",
        "    numberDrawer(5, 5)\n",
        "\n",
        "    gl.glColor3f(0.7, 0.6, .6) # some color...\n",
        "    # Region F\n",
        "    mpld_short(-100,203.34, -100,151.67, 1)\n",
        "    mpld_short(-100,151.67, 0, 151.67, 1)\n",
        "    mpld_short(0, 151.67, 0, 203.34, 1)\n",
        "    mpld_short(0, 203.34, -100, 203.34, 1)\n",
        "    numberDrawer(6, 6)\n",
        "\n",
        "    gl.glColor3f(0.7, 0.6, .6) # some color...\n",
        "    # Region G\n",
        "    mpld_short(0,203.34, 0,151.67, 1)\n",
        "    mpld_short(0,151.67, 100, 151.67, 1)\n",
        "    mpld_short(100, 151.67, 100, 203.34, 1)\n",
        "    mpld_short(100, 203.34, 0, 203.34, 1)\n",
        "    numberDrawer(7, 7)\n",
        "\n",
        "    gl.glColor3f(0.7, 0.6, .6) # some color...\n",
        "    # Region H\n",
        "    mpld_short(100,203.34, 100,151.67, 1)\n",
        "    mpld_short(100,151.67, 200, 151.67, 1)\n",
        "    mpld_short(200, 151.67, 200, 203.34, 1)\n",
        "    mpld_short(200, 203.34, 100, 203.34, 1)\n",
        "    numberDrawer(8, 8)\n",
        "\n",
        "    gl.glColor3f(0.7, 0.6, .6) # some color...\n",
        "    # Region I\n",
        "    mpld_short(-200,151.67, -200,100, 1)\n",
        "    mpld_short(-200,100, -100, 100, 1)\n",
        "    mpld_short(-100, 100, -100, 151.67, 1)\n",
        "    mpld_short(-100, 151.67, -200, 151.67, 1)\n",
        "    numberDrawer(9, 9)\n",
        "\n",
        "    gl.glColor3f(0.7, 0.6, .6) # some color...\n",
        "    # Region J\n",
        "    mpld_short(-100,151.67, -100,100, 1)\n",
        "    mpld_short(-100,100, 0, 100, 1)\n",
        "    mpld_short(0, 100, 0, 151.67, 1)\n",
        "    mpld_short(0, 151.67, -100, 151.67, 1)\n",
        "    numberDrawer(1, 101)\n",
        "    numberDrawer(0, 102)\n",
        "\n",
        "    gl.glColor3f(0.7, 0.6, .6) # some color...\n",
        "    # Region K\n",
        "    mpld_short(0,151.67, 0,100, 1)\n",
        "    mpld_short(0,100, 100, 100, 1)\n",
        "    mpld_short(100, 100, 100, 151.67, 1)\n",
        "    mpld_short(100, 151.67, 0, 151.67, 1)\n",
        "    numberDrawer(1, 111)\n",
        "    numberDrawer(1, 112)\n",
        "\n",
        "    gl.glColor3f(0.7, 0.6, .6) # some color...\n",
        "    # Region L\n",
        "    mpld_short(100,151.67, 100,100, 1)\n",
        "    mpld_short(100,100, 200, 100, 1)\n",
        "    mpld_short(200, 100, 200, 151.67, 1)\n",
        "    mpld_short(200, 151.67, 100, 151.67, 1)\n",
        "    numberDrawer(1, 121)\n",
        "    numberDrawer(2, 122)\n"
      ]
    },
    {
      "cell_type": "markdown",
      "metadata": {
        "id": "CTv8bNuyxPT5"
      },
      "source": [
        "# Football"
      ]
    },
    {
      "cell_type": "code",
      "execution_count": null,
      "metadata": {
        "id": "lZBnBEaYxTUT"
      },
      "outputs": [],
      "source": [
        "def football(region):\n",
        "    if region == 0: # initial position\n",
        "        gl.glColor3f(1,1,1)\n",
        "        for i in range(1, 45):\n",
        "            MidpointCircle(i, 0, -120, 3)\n",
        "        gl.glColor3f(0,0,0)\n",
        "        MidpointCircle(45, 0, -120, 3)\n",
        "    elif region == 1:\n",
        "        gl.glColor3f(1,1,1)\n",
        "        for i in range(1, 15):\n",
        "            MidpointCircle(i, -150,229.17, 3)\n",
        "        gl.glColor3f(0,0,0)\n",
        "        MidpointCircle(15, -150,229.17, 3)\n",
        "    elif region == 2:\n",
        "        gl.glColor3f(1,1,1)\n",
        "        for i in range(1, 15):\n",
        "            MidpointCircle(i, -50,229.17, 3)\n",
        "        gl.glColor3f(0,0,0)\n",
        "        MidpointCircle(15, -50,229.17, 3)\n",
        "    elif region == 3:\n",
        "        gl.glColor3f(1,1,1)\n",
        "        for i in range(1, 15):\n",
        "            MidpointCircle(i, 50,229.17, 3)\n",
        "        gl.glColor3f(0,0,0)\n",
        "        MidpointCircle(15, 50,229.17, 3)\n",
        "    elif region == 4:\n",
        "        gl.glColor3f(1,1,1)\n",
        "        for i in range(1, 15):\n",
        "            MidpointCircle(i, 150,229.17, 3)\n",
        "        gl.glColor3f(0,0,0)\n",
        "        MidpointCircle(15, 150,229.17, 3)\n",
        "    elif region == 5:\n",
        "        gl.glColor3f(1,1,1)\n",
        "        for i in range(1, 15):\n",
        "            MidpointCircle(i, -150,177.505, 3)\n",
        "        gl.glColor3f(0,0,0)\n",
        "        MidpointCircle(15, -150,177.505, 3)\n",
        "    elif region == 6:\n",
        "        gl.glColor3f(1,1,1)\n",
        "        for i in range(1, 15):\n",
        "            MidpointCircle(i, -50,177.505, 3)\n",
        "        gl.glColor3f(0,0,0)\n",
        "        MidpointCircle(15, -50,177.505, 3)\n",
        "    elif region == 7:\n",
        "        gl.glColor3f(1,1,1)\n",
        "        for i in range(1, 15):\n",
        "            MidpointCircle(i, 50,177.505, 3)\n",
        "        gl.glColor3f(0,0,0)\n",
        "        MidpointCircle(15, 50,177.505, 3)\n",
        "    elif region == 8:\n",
        "        gl.glColor3f(1,1,1)\n",
        "        for i in range(1, 15):\n",
        "            MidpointCircle(i, 150,177.505, 3)\n",
        "        gl.glColor3f(0,0,0)\n",
        "        MidpointCircle(15, 150,177.505, 3)\n",
        "    elif region == 9:\n",
        "        gl.glColor3f(1,1,1)\n",
        "        for i in range(1, 15):\n",
        "            MidpointCircle(i, -150,125.835, 3)\n",
        "        gl.glColor3f(0,0,0)\n",
        "        MidpointCircle(15, -150,125.835, 3)\n",
        "    elif region == 10:\n",
        "        gl.glColor3f(1,1,1)\n",
        "        for i in range(1, 15):\n",
        "            MidpointCircle(i, -50,125.835, 3)\n",
        "        gl.glColor3f(0,0,0)\n",
        "        MidpointCircle(15, -50,125.835, 3)\n",
        "    elif region == 11:\n",
        "        gl.glColor3f(1,1,1)\n",
        "        for i in range(1, 15):\n",
        "            MidpointCircle(i, 50,125.835, 3)\n",
        "        gl.glColor3f(0,0,0)\n",
        "        MidpointCircle(15, 50,125.835, 3)\n",
        "    elif region == 12:\n",
        "        gl.glColor3f(1,1,1)\n",
        "        for i in range(1, 15):\n",
        "            MidpointCircle(i, 150,125.835, 3)\n",
        "        gl.glColor3f(0,0,0)\n",
        "        MidpointCircle(15, 150,125.835, 3)"
      ]
    },
    {
      "cell_type": "markdown",
      "metadata": {
        "id": "XdhfBtMbrKtG"
      },
      "source": [
        " # Matrix Function"
      ]
    },
    {
      "cell_type": "code",
      "execution_count": null,
      "metadata": {
        "id": "ReIygQ_zuN3u"
      },
      "outputs": [],
      "source": [
        "# matrices\n",
        "\n",
        "def rotation(theta, x, y): # matrix for rotation. Takes degree angle for rotation\n",
        "    a = math.cos(math.radians(theta))\n",
        "    b = math.sin(math.radians(theta))\n",
        "    # print(a,b)\n",
        "\n",
        "    r = np.array([[a, -b, 0],\n",
        "                  [b, a, 0],\n",
        "                  [0, 0, 1]])\n",
        "    \n",
        "    v = np.array([[x],\n",
        "                  [y],\n",
        "                  [1]])\n",
        "    \n",
        "    # print(v)\n",
        "\n",
        "    v_rot = np.matmul(r,v)\n",
        "    return v_rot\n",
        "    \n",
        "def scl_refl(a, b, x, y): # for reflection, set one scaling factor to -1 and the other to 0\n",
        "    sc = np.array([[a, 0, 0],\n",
        "                  [0, b, 0],\n",
        "                  [0, 0, 1]])\n",
        "    \n",
        "    v = np.array([[x],\n",
        "                  [y],\n",
        "                  [1]])\n",
        "    \n",
        "    v_sc = np.matmul(sc, v)\n",
        "    return v_sc\n",
        "    \n",
        "def shear(a, b, x, y):\n",
        "    sh = np.array([[1, a, 0],\n",
        "                  [b, 1, 0],\n",
        "                  [0, 0, 1]])\n",
        "    \n",
        "    v = np.array([[x],\n",
        "                  [y],\n",
        "                  [1]])\n",
        "    \n",
        "    v_sh = np.matmul(sh, v)\n",
        "    return v_sh\n",
        "\n",
        "def translation(tx, ty, x, y):\n",
        "    t = np.array([[1, 0, tx],\n",
        "                  [0, 1, ty],\n",
        "                  [0, 0, 1]])\n",
        "    \n",
        "    v = np.array([[x],\n",
        "                  [y],\n",
        "                  [1]])\n",
        "    \n",
        "    v_trans = np.matmul(t,v)\n",
        "\n",
        "    return v_trans\n"
      ]
    },
    {
      "cell_type": "code",
      "execution_count": null,
      "metadata": {
        "colab": {
          "base_uri": "https://localhost:8080/"
        },
        "id": "mOY9GomgHCSQ",
        "outputId": "79eac406-2dfb-49b9-a58c-0c9912d7b3f0"
      },
      "outputs": [
        {
          "name": "stdout",
          "output_type": "stream",
          "text": [
            "0 0 282 282\n",
            "0 0 0 398\n"
          ]
        }
      ],
      "source": [
        "gl.glClear(gl.GL_COLOR_BUFFER_BIT)\n",
        "gl.glColor(1, 0, 0)\n",
        "\n",
        "mpld_short(0, 0, 400, 0, 3)\n",
        "\n",
        "v1 = rotation(45, 0, 0)\n",
        "x1, y1 = int(v1[0]), int(v1[1])\n",
        "v2 = rotation(45, 400, 0)\n",
        "x2, y2 = int(v2[0]), int(v2[1])\n",
        "\n",
        "print(x1, y1, x2, y2)\n",
        "mpld_short(x1, y1, x2, y2, 3)\n",
        "\n",
        "v1 = rotation(45, x1, y1)\n",
        "x1, y1 = int(v1[0]), int(v1[1])\n",
        "v2 = rotation(45, x2, y2)\n",
        "x2, y2 = int(v2[0]), int(v2[1])\n",
        "print(x1, y1, x2, y2)\n",
        "mpld_short(x1, y1, x2, y2, 3)"
      ]
    },
    {
      "cell_type": "markdown",
      "metadata": {
        "id": "ZNIXgqG0N2rv"
      },
      "source": [
        "# Main function"
      ]
    },
    {
      "cell_type": "code",
      "execution_count": null,
      "metadata": {
        "id": "nvyAmlbCykqp"
      },
      "outputs": [],
      "source": [
        "def penalty_shootout(penalty_taker, region, position):\n",
        "    field()\n",
        "    GPR()\n",
        "    goalie(position)\n",
        "    football(region)\n",
        "    penaltyTaker(penalty_taker)"
      ]
    },
    {
      "cell_type": "code",
      "execution_count": null,
      "metadata": {
        "colab": {
          "background_save": true,
          "base_uri": "https://localhost:8080/",
          "height": 1000
        },
        "id": "Kpkzx5e12mSr",
        "outputId": "cf967cbe-9266-49b3-de53-d3c71e462021"
      },
      "outputs": [
        {
          "data": {
            "image/png": "[encoded data removed]",
            "text/plain": [
              "<PIL.Image.Image image mode=RGB size=800x600 at 0x7F3B8E763130>"
            ]
          },
          "metadata": {},
          "output_type": "display_data"
        }
      ],
      "source": [
        "from IPython.display import display\n",
        "from PIL import Image\n",
        "\n",
        "gl.glClear(gl.GL_COLOR_BUFFER_BIT)\n",
        "\n",
        "penalty_shootout(0, 0, 3)\n",
        "\n",
        "img_buf = gl.glReadPixelsub(0, 0, WIDTH, HEIGHT, gl.GL_RGB, gl.GL_UNSIGNED_BYTE)\n",
        "img = np.frombuffer(img_buf,np.uint8).reshape(HEIGHT, WIDTH, 3)[::-1]\n",
        "display(Image.fromarray(img,'RGB'))\n",
        "\n",
        "while True:\n",
        "    region = int(input(\"Please enter target region\\n\"))\n",
        "    position = int(input(\"Please enter goalkeeper defense position\\n\"))\n",
        "    if (region >= 1 and region <= 12) and (position >= 1 and position <= 5):\n",
        "        break\n",
        "    else:\n",
        "        print(\"Please enter region between 1-12 (including) and position between 1-5 (including)\")\n",
        "\n",
        "penalty_shootout(1, region, position)\n",
        "# penalty_shootout(1, region, 1)\n",
        "\n",
        "img_buf = gl.glReadPixelsub(0, 0, WIDTH, HEIGHT, gl.GL_RGB, gl.GL_UNSIGNED_BYTE)\n",
        "img = np.frombuffer(img_buf,np.uint8).reshape(HEIGHT, WIDTH, 3)[::-1]\n",
        "display(Image.fromarray(img,'RGB'))\n",
        "\n",
        "if (position == 1 and (region == 5 or region == 6 or region == 9 or region == 10)) or (position == 2 and (region == 1 or region == 2 or region == 5 or region == 6 or region == 10)) or (position == 3 and (region == 2 or region == 3 or region == 6 or region == 7 or region == 10 or region == 11)) or (position == 4 and (region == 3 or region == 4 or region == 7 or region == 8 or region == 11)) or (position == 5 and (region == 7 or region == 8 or region == 11 or region == 12)):\n",
        "    print(\"Penalty saved!!!\")\n",
        "else:\n",
        "    print(\"GOAL!!!\")"
      ]
    }
  ],
  "metadata": {
    "accelerator": "GPU",
    "colab": {
      "provenance": [],
      "include_colab_link": true
    },
    "gpuClass": "standard",
    "kernelspec": {
      "display_name": "Python 3",
      "name": "python3"
    },
    "language_info": {
      "name": "python"
    }
  },
  "nbformat": 4,
  "nbformat_minor": 0
}